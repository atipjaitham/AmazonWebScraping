{
  "cells": [
    {
      "cell_type": "code",
      "execution_count": null,
      "id": "f236cbb9",
      "metadata": {
        "id": "f236cbb9"
      },
      "outputs": [],
      "source": [
        "# import libraries\n",
        "from bs4 import BeautifulSoup\n",
        "import requests\n",
        "import time\n",
        "import datetime\n",
        "import smtplib"
      ]
    },
    {
      "cell_type": "code",
      "execution_count": null,
      "id": "9b531b61",
      "metadata": {
        "id": "9b531b61"
      },
      "outputs": [],
      "source": [
        "# Connect to Website and pull in data\n",
        "URL = 'https://www.amazon.com/Garmin-Instinct-Features-Monitoring-Graphite/dp/B07HYX9P88/ref=sr_1_6?_encoding=UTF8&content-id=amzn1.sym.33f8f65b-b95c-44af-8b89-e59e69e79828&dib=eyJ2IjoiMSJ9.NhtP_3cV6I_AC3iGgzwjz3mm7vCKzPQXuUWDplhsSchYMkAuSYG9rc84igR3ylC7_2pq4lqS-Tk-9cBTDvrjNdrzHOIsEu-a3iA4VNL6RI80KKm7oxpQ9QyxvbxlV1q45AAk0_CFvVsaiaw8knKnVopa0xWjivhdBN9LmbPagWomL615mAea1fbDZV0wn0hLWc_ZF4ZLWyL28iQUb4RvnovcR0e-B8RzSZtLBLTgbMU.A6MExndoDv-98oDAb8gROIO7Do-1lbjdK40lJn7rFRE&dib_tag=se&keywords=activity%2Btrackers%2Band%2Bsmartwatches&pd_rd_r=1405bddc-ac4e-46e9-a857-dd89dda8fabf&pd_rd_w=mbw59&pd_rd_wg=gBgLl&pf_rd_p=33f8f65b-b95c-44af-8b89-e59e69e79828&pf_rd_r=JDDWRKGGCK3YKT303F3N&qid=1709200003&sr=8-6&th=1'\n",
        "headers = {\n",
        "    \"User-Agent\": \"Mozilla/5.0 (Windows NT 10.0; Win64; x64) AppleWebKit/537.36 (KHTML, like Gecko) Chrome/78.0.3904.108 Safari/537.36\",\n",
        "    \"Accept-Encoding\": \"gzip, deflate\",\n",
        "    \"Accept\": \"text/html,application/xhtml+xml,application/xml;q=0.9,*/*;q=0.8\",\n",
        "    \"DNT\": \"1\",\n",
        "    \"Connection\": \"close\",\n",
        "    \"Upgrade-Insecure-Requests\": \"1\"\n",
        "}  # Set headers to mimic a browser's request\n",
        "page = requests.get(URL, headers=headers)  # Send HTTP request to the URL\n",
        "soup1 = BeautifulSoup(page.content, \"html.parser\")  # Parse the HTML content of the page\n",
        "soup2 = BeautifulSoup(soup1.prettify(), \"html.parser\")  # Make the HTML content more readable\n",
        "\n",
        "# Extract title and price from the page\n",
        "title = soup2.find(id='productTitle').get_text()  # Find the product title\n",
        "price = soup2.find(class_='a-offscreen').get_text()  # Find the product price\n",
        "\n",
        "print(title)\n",
        "print(price)\n",
        "\n",
        "\n"
      ]
    },
    {
      "cell_type": "code",
      "execution_count": null,
      "id": "b6f7d66e",
      "metadata": {
        "id": "b6f7d66e"
      },
      "outputs": [],
      "source": [
        "# Clean up the data\n",
        "price = price.strip()[1:]  # Remove leading and trailing spaces and currency symbol\n",
        "title = title.strip()  # Remove leading and trailing spaces\n",
        "print(title)\n",
        "print(price)"
      ]
    },
    {
      "cell_type": "code",
      "execution_count": null,
      "id": "4f021c23",
      "metadata": {
        "id": "4f021c23"
      },
      "outputs": [],
      "source": [
        "# Create a Timestamp for your output to track when data was collected\n",
        "import datetime\n",
        "today = datetime.date.today()  # Get today's date\n",
        "print(today)"
      ]
    },
    {
      "cell_type": "code",
      "execution_count": 24,
      "id": "14d703ca",
      "metadata": {
        "id": "14d703ca"
      },
      "outputs": [],
      "source": [
        "# Create CSV and write headers and data into the file\n",
        "import csv\n",
        "header = ['Title', 'Price', 'Date']  # Define CSV header\n",
        "data = [title, price, today]  # Define CSV data\n",
        "with open('AmazonWebScraperDataset.csv', 'w', newline='', encoding='UTF8') as f:\n",
        "    writer = csv.writer(f)\n",
        "    writer.writerow(header)  # Write header to CSV\n",
        "    writer.writerow(data)  # Write data to CSV"
      ]
    },
    {
      "cell_type": "code",
      "execution_count": null,
      "id": "d07eeb86",
      "metadata": {
        "id": "d07eeb86"
      },
      "outputs": [],
      "source": [
        "import pandas as pd\n",
        "df = pd.read_csv(r'/content/AmazonWebScraperDataset.csv')  # Read CSV data into a DataFrame\n",
        "print(df)"
      ]
    },
    {
      "cell_type": "code",
      "execution_count": 27,
      "id": "6b05c1eb",
      "metadata": {
        "id": "6b05c1eb"
      },
      "outputs": [],
      "source": [
        "# Append data to the CSV\n",
        "with open('AmazonWebScraperDataset.csv', 'a+', newline='', encoding='UTF8') as f:\n",
        "    writer = csv.writer(f)\n",
        "    writer.writerow(data)  # Append data to the CSV"
      ]
    },
    {
      "cell_type": "code",
      "execution_count": 32,
      "id": "8e95b9e0",
      "metadata": {
        "id": "8e95b9e0"
      },
      "outputs": [],
      "source": [
        "#Combine all of the above code into one function\n",
        "\n",
        "\n",
        "def check_price():\n",
        "    URL = 'https://www.amazon.com/Garmin-Instinct-Features-Monitoring-Graphite/dp/B07HYX9P88/ref=sr_1_6?_encoding=UTF8&content-id=amzn1.sym.33f8f65b-b95c-44af-8b89-e59e69e79828&dib=eyJ2IjoiMSJ9.NhtP_3cV6I_AC3iGgzwjz3mm7vCKzPQXuUWDplhsSchYMkAuSYG9rc84igR3ylC7_2pq4lqS-Tk-9cBTDvrjNdrzHOIsEu-a3iA4VNL6RI80KKm7oxpQ9QyxvbxlV1q45AAk0_CFvVsaiaw8knKnVopa0xWjivhdBN9LmbPagWomL615mAea1fbDZV0wn0hLWc_ZF4ZLWyL28iQUb4RvnovcR0e-B8RzSZtLBLTgbMU.A6MExndoDv-98oDAb8gROIO7Do-1lbjdK40lJn7rFRE&dib_tag=se&keywords=activity%2Btrackers%2Band%2Bsmartwatches&pd_rd_r=1405bddc-ac4e-46e9-a857-dd89dda8fabf&pd_rd_w=mbw59&pd_rd_wg=gBgLl&pf_rd_p=33f8f65b-b95c-44af-8b89-e59e69e79828&pf_rd_r=JDDWRKGGCK3YKT303F3N&qid=1709200003&sr=8-6&th=1'\n",
        "\n",
        "    headers = {\"User-Agent\": \"Mozilla/5.0 (Windows NT 10.0; Win64; x64) AppleWebKit/537.36 (KHTML, like Gecko) Chrome/78.0.3904.108 Safari/537.36\", \"Accept-Encoding\":\"gzip, deflate\", \"Accept\":\"text/html,application/xhtml+xml,application/xml;q=0.9,*/*;q=0.8\", \"DNT\":\"1\",\"Connection\":\"close\", \"Upgrade-Insecure-Requests\":\"1\"}\n",
        "\n",
        "    page = requests.get(URL, headers=headers)\n",
        "\n",
        "    soup1 = BeautifulSoup(page.content, \"html.parser\")\n",
        "\n",
        "    soup2 = BeautifulSoup(soup1.prettify(), \"html.parser\")\n",
        "\n",
        "    title = soup2.find(id='productTitle').get_text()\n",
        "\n",
        "    price = soup2.find(class_='a-offscreen').get_text()\n",
        "\n",
        "    price = price.strip()[1:]\n",
        "    title = title.strip()\n",
        "\n",
        "    import datetime\n",
        "\n",
        "    today = datetime.date.today()\n",
        "\n",
        "    import csv\n",
        "\n",
        "    header = ['Title', 'Price', 'Date']\n",
        "    data = [title, price, today]\n",
        "\n",
        "    with open('AmazonWebScraperDataset.csv', 'a+', newline='', encoding='UTF8') as f:\n",
        "        writer = csv.writer(f)\n",
        "        writer.writerow(data)\n",
        "\n"
      ]
    },
    {
      "cell_type": "code",
      "execution_count": null,
      "id": "c72f2c4e",
      "metadata": {
        "id": "c72f2c4e"
      },
      "outputs": [],
      "source": [
        "# Runs check_price after a set time and inputs data into your CSV\n",
        "while True:\n",
        "    check_price()  # Call the check_price function\n",
        "    time.sleep(5)  # Sleep for 5 seconds before running again"
      ]
    },
    {
      "cell_type": "code",
      "execution_count": null,
      "id": "00af7126",
      "metadata": {
        "id": "00af7126"
      },
      "outputs": [],
      "source": [
        "import pandas as pd\n",
        "df = pd.read_csv(r'/content/AmazonWebScraperDataset.csv')\n",
        "print(df)"
      ]
    },
    {
      "cell_type": "code",
      "execution_count": 38,
      "id": "d14fce5f",
      "metadata": {
        "id": "d14fce5f"
      },
      "outputs": [],
      "source": [
        "# If uou want to try sending yourself an email (just for fun) when a price hits below a certain level you can try it\n",
        "# out with this script\n",
        "\n",
        "def send_mail():\n",
        "    server = smtplib.SMTP_SSL('smtp.gmail.com',465)\n",
        "    server.ehlo()\n",
        "    server.starttls()\n",
        "    server.ehlo()\n",
        "    server.login('xxxxxxxx@gmail.com','xxxxxxxxxx')\n",
        "\n",
        "    subject = \"Hurry up and check now! The smartwatch you're interested in is priced below $170.\"\n",
        "    body = \"Atip, Don't miss out on this thrilling opportunity! It's finally here—the moment you've been waiting for to snag the smartwatch of your dreams. Seize it now! Link here: https://www.amazon.com/Garmin-Instinct-Features-Monitoring-Graphite/dp/B07HYX9P88/ref=sr_1_6?_encoding=UTF8&content-id=amzn1.sym.33f8f65b-b95c-44af-8b89-e59e69e79828&dib=eyJ2IjoiMSJ9.NhtP_3cV6I_AC3iGgzwjz3mm7vCKzPQXuUWDplhsSchYMkAuSYG9rc84igR3ylC7_2pq4lqS-Tk-9cBTDvrjNdrzHOIsEu-a3iA4VNL6RI80KKm7oxpQ9QyxvbxlV1q45AAk0_CFvVsaiaw8knKnVopa0xWjivhdBN9LmbPagWomL615mAea1fbDZV0wn0hLWc_ZF4ZLWyL28iQUb4RvnovcR0e-B8RzSZtLBLTgbMU.A6MExndoDv-98oDAb8gROIO7Do-1lbjdK40lJn7rFRE&dib_tag=se&keywords=activity%2Btrackers%2Band%2Bsmartwatches&pd_rd_r=1405bddc-ac4e-46e9-a857-dd89dda8fabf&pd_rd_w=mbw59&pd_rd_wg=gBgLl&pf_rd_p=33f8f65b-b95c-44af-8b89-e59e69e79828&pf_rd_r=JDDWRKGGCK3YKT303F3N&qid=1709200003&sr=8-6&th=1\"\n",
        "\n",
        "    msg = f\"Subject: {subject}\\n\\n{body}\"\n",
        "\n",
        "    server.sendmail(\n",
        "        'xxxxxxxxx@gmail.com',\n",
        "        msg\n",
        "\n",
        "    )"
      ]
    }
  ],
  "metadata": {
    "kernelspec": {
      "display_name": "Python 3",
      "language": "python",
      "name": "python3"
    },
    "language_info": {
      "codemirror_mode": {
        "name": "ipython",
        "version": 3
      },
      "file_extension": ".py",
      "mimetype": "text/x-python",
      "name": "python",
      "nbconvert_exporter": "python",
      "pygments_lexer": "ipython3",
      "version": "3.8.8"
    },
    "colab": {
      "provenance": []
    }
  },
  "nbformat": 4,
  "nbformat_minor": 5
}